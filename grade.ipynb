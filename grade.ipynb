{
 "cells": [
  {
   "cell_type": "code",
   "execution_count": 17,
   "metadata": {},
   "outputs": [
    {
     "name": "stdout",
     "output_type": "stream",
     "text": [
      "numb EQUIVAENT CALCUATOR\n"
     ]
    },
    {
     "name": "stdout",
     "output_type": "stream",
     "text": [
      "700.0  is more 100 and not valid\n"
     ]
    }
   ],
   "source": [
    "\n",
    "print(\"numb EQUIVAENT CALCUATOR\")\n",
    "\n",
    "\n",
    "# For i in range(10): \n",
    "\n",
    "# Run this for loop to test the code more than once to\n",
    "# Avoid running the cod over and over again\n",
    "# Change the number in the range to run it how many times ou want to \n",
    "\n",
    "numb = float(input(\"Input tota score from 1-100\\n\"))# converting str to int \n",
    "\n",
    "if numb > 100:\n",
    "        print(numb,\" is more 100 and not valid\")# when numb is more than 100\n",
    "       \n",
    "elif numb >= 90 and numb <= 100:\n",
    "        print(numb,\" is === 'A'\")# when numb is 90-100\n",
    "        \n",
    "elif numb >= 80 and numb < 90 :\n",
    "        print(numb,\" is === 'B'\")# when numb is 80-89\n",
    "        \n",
    "elif numb >= 70 and numb < 80:\n",
    "        print(numb,\" is === 'C'\")# when numb is 70-79\n",
    "        \n",
    "elif numb >= 60 and numb < 70:\n",
    "        print(numb,\" is === 'D'\")# when numb is 60-69\n",
    "       \n",
    "elif numb >= 0 and numb < 60:\n",
    "        print(numb,\" is === 'F'\")# when numb is 0-59\n",
    "        "
   ]
  }
 ],
 "metadata": {
  "kernelspec": {
   "display_name": "Python 3",
   "language": "python",
   "name": "python3"
  },
  "language_info": {
   "codemirror_mode": {
    "name": "ipython",
    "version": 3
   },
   "file_extension": ".py",
   "mimetype": "text/x-python",
   "name": "python",
   "nbconvert_exporter": "python",
   "pygments_lexer": "ipython3",
   "version": "3.11.1"
  }
 },
 "nbformat": 4,
 "nbformat_minor": 2
}
