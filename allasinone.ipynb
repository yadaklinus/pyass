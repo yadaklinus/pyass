{
 "cells": [
  {
   "cell_type": "code",
   "execution_count": 3,
   "metadata": {},
   "outputs": [
    {
     "name": "stdout",
     "output_type": "stream",
     "text": [
      "896\n"
     ]
    }
   ],
   "source": [
    "# Assignment 1\n",
    "def max_num(a,b):\n",
    "    if(a>b):\n",
    "        print(a)\n",
    "    else:\n",
    "        print(b)\n",
    "max_num(95,896)       "
   ]
  },
  {
   "cell_type": "code",
   "execution_count": 5,
   "metadata": {},
   "outputs": [
    {
     "name": "stdout",
     "output_type": "stream",
     "text": [
      "2\n",
      "FizzBuzz\n",
      "Fizz\n",
      "Buzz\n"
     ]
    }
   ],
   "source": [
    "# Assignment 2\n",
    "def fizz_buzz(num):\n",
    "    if(num%5 == 0 and num%3 == 0):\n",
    "       print(\"FizzBuzz\")\n",
    "    elif(num%5 == 0):\n",
    "        print(\"Buzz\")\n",
    "    elif(num%3 == 0):\n",
    "        print(\"Fizz\")\n",
    "    else:\n",
    "        print(num)\n",
    "fizz_buzz(2)        \n",
    "fizz_buzz(15)        \n",
    "fizz_buzz(9)        \n",
    "fizz_buzz(25)        "
   ]
  },
  {
   "cell_type": "code",
   "execution_count": 7,
   "metadata": {},
   "outputs": [
    {
     "name": "stdout",
     "output_type": "stream",
     "text": [
      "10\n"
     ]
    }
   ],
   "source": [
    "# Assignment 3\n",
    "array = \"characters\"\n",
    "def num_of_array(ar):\n",
    "    print(len(ar))\n",
    "num_of_array(array)"
   ]
  },
  {
   "cell_type": "code",
   "execution_count": null,
   "metadata": {},
   "outputs": [
    {
     "name": "stdout",
     "output_type": "stream",
     "text": [
      "ada\n",
      "90000\n",
      "#############################\n",
      "ada\n",
      "999876\n"
     ]
    }
   ],
   "source": [
    "# Assignment 4\n",
    "def show_employee(name,salary = 90000):\n",
    "    print(name)\n",
    "    print(salary)\n",
    "show_employee(\"ada\")# With out price\n",
    "print(\"#############################\")\n",
    "show_employee(\"ada\",999876)# With price\n"
   ]
  },
  {
   "cell_type": "code",
   "execution_count": null,
   "metadata": {},
   "outputs": [
    {
     "name": "stdout",
     "output_type": "stream",
     "text": [
      "add: 13   sub: 5    mul: 36\n"
     ]
    }
   ],
   "source": [
    "# Assignment 5\n",
    "def calculation(x,y):\n",
    "    add = x + y\n",
    "    sub = x - y\n",
    "    mul = x * y\n",
    "    print(\"add:\",add,\"  sub:\",sub,\"   mul:\",mul) # All three\n",
    "calculation(9,4)"
   ]
  },
  {
   "cell_type": "code",
   "execution_count": null,
   "metadata": {},
   "outputs": [
    {
     "name": "stdout",
     "output_type": "stream",
     "text": [
      "False\n"
     ]
    }
   ],
   "source": [
    "# Assignment 6\n",
    "def id_odd(isodd):\n",
    "    if (isodd % 2 == 0):\n",
    "        print(isodd % 2 != 0)\n",
    "    else:\n",
    "        print(isodd % 2 != 0) \n",
    "\n",
    "id_odd(98)  "
   ]
  },
  {
   "cell_type": "code",
   "execution_count": null,
   "metadata": {},
   "outputs": [
    {
     "name": "stdout",
     "output_type": "stream",
     "text": [
      "True\n"
     ]
    }
   ],
   "source": [
    "# Assignment 7\n",
    "def id_even(iseven):\n",
    "    if (iseven % 2 == 0):\n",
    "        print(iseven % 2 == 0)\n",
    "    else:\n",
    "        print(iseven % 2 == 0) \n",
    "\n",
    "id_even(98)  "
   ]
  },
  {
   "cell_type": "code",
   "execution_count": null,
   "metadata": {},
   "outputs": [
    {
     "name": "stdout",
     "output_type": "stream",
     "text": [
      "729\n"
     ]
    }
   ],
   "source": [
    "# Assignment 8\n",
    "def cube(n3):\n",
    "    print(n3*n3*n3)\n",
    "cube(9)"
   ]
  },
  {
   "cell_type": "code",
   "execution_count": null,
   "metadata": {},
   "outputs": [
    {
     "name": "stdout",
     "output_type": "stream",
     "text": [
      "6.0\n"
     ]
    }
   ],
   "source": [
    "# Assignment 9\n",
    "def sqrt(haf):\n",
    "    print(haf**0.5)\n",
    "sqrt(36)"
   ]
  },
  {
   "cell_type": "code",
   "execution_count": 11,
   "metadata": {},
   "outputs": [
    {
     "name": "stdout",
     "output_type": "stream",
     "text": [
      "67\n"
     ]
    }
   ],
   "source": [
    "# Assignment 10\n",
    "num = int(input(\"number of element ina list\"))\n",
    "array1 = []\n",
    "\n",
    "def get_highest_number(arr):\n",
    "    for i in range(0,num):\n",
    "        array = int(input(\"array\"))\n",
    "        array1.append(array)\n",
    "\n",
    "    print(max(arr))\n",
    "\n",
    "get_highest_number(array1)\n",
    "\n"
   ]
  }
 ],
 "metadata": {
  "kernelspec": {
   "display_name": "Python 3",
   "language": "python",
   "name": "python3"
  },
  "language_info": {
   "codemirror_mode": {
    "name": "ipython",
    "version": 3
   },
   "file_extension": ".py",
   "mimetype": "text/x-python",
   "name": "python",
   "nbconvert_exporter": "python",
   "pygments_lexer": "ipython3",
   "version": "3.11.1"
  }
 },
 "nbformat": 4,
 "nbformat_minor": 2
}
