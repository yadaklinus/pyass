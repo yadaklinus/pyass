{
 "cells": [
  {
   "cell_type": "code",
   "execution_count": null,
   "metadata": {},
   "outputs": [],
   "source": []
  },
  {
   "cell_type": "code",
   "execution_count": null,
   "metadata": {},
   "outputs": [],
   "source": []
  },
  {
   "cell_type": "code",
   "execution_count": null,
   "metadata": {},
   "outputs": [],
   "source": []
  },
  {
   "cell_type": "code",
   "execution_count": 12,
   "metadata": {},
   "outputs": [
    {
     "name": "stdout",
     "output_type": "stream",
     "text": [
      "***************************\n",
      "THE ALL MIGHT FORMULA\n",
      "FIRST VALUE(x1) == (-0.1428571428571428+1.0594569267279519j)\n",
      "*******************\n",
      "SECOND VAUE(x2) == (-0.14285714285714293-1.0594569267279519j)\n"
     ]
    }
   ],
   "source": [
    "print(\"***************************\")\n",
    "\n",
    "print(\"THE ALL MIGHT FORMULA\")\n",
    "\n",
    "# GETTING THE INPUT VERIAES\n",
    "def quad_equ(x,y,z):\n",
    "    # CONVERT THE STRING TO INTERGER\n",
    "\n",
    "    a_int = float(x)\n",
    "    b_int = float(y)\n",
    "    c_int = float(z)\n",
    "\n",
    "    # SOLVING THE EQUATION \n",
    "\n",
    "    a = -b_int # -b\n",
    "    b = b_int**2 # b(square)\n",
    "    c = 4*a_int*c_int # 4xaxc\n",
    "    d = b-c # b(square)-4xaxc\n",
    "    f = d**0.5# root(b(square)-4*a*c)\n",
    "\n",
    "    g = 2*a_int #2xa\n",
    "\n",
    "    #because of the plus or minus this is what to do\n",
    "\n",
    "    r1 = a + f # -b + root(b(square)-4*a*c)\n",
    "    r2 = a - f # -b - root(b(square)-4*a*c)\n",
    "\n",
    "    x1 = r1/g\n",
    "\n",
    "    #    -b + root(b(square)-4*a*c)\n",
    "    #    --------------------------\n",
    "    #              2xa\n",
    "        \n",
    "\n",
    "    x2 = r2/g\n",
    "\n",
    "    #    -b - root(b(square)-4*a*c)\n",
    "    #    --------------------------\n",
    "    #                2xa\n",
    "\n",
    "    print(\"FIRST VALUE(x1) ==\",x1)\n",
    "    print(\"*******************\")\n",
    "    print(\"SECOND VAUE(x2) ==\",x2)\n",
    "\n",
    "quad_equ(7,2,8)\n",
    "\n",
    "\n",
    "   \n",
    "\n",
    "\n",
    "\n",
    "\n"
   ]
  }
 ],
 "metadata": {
  "kernelspec": {
   "display_name": "Python 3",
   "language": "python",
   "name": "python3"
  },
  "language_info": {
   "codemirror_mode": {
    "name": "ipython",
    "version": 3
   },
   "file_extension": ".py",
   "mimetype": "text/x-python",
   "name": "python",
   "nbconvert_exporter": "python",
   "pygments_lexer": "ipython3",
   "version": "3.11.1"
  }
 },
 "nbformat": 4,
 "nbformat_minor": 2
}
